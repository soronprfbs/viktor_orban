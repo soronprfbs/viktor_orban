{
 "cells": [
  {
   "cell_type": "code",
   "execution_count": null,
   "metadata": {},
   "outputs": [],
   "source": [
    "import re\n",
    "import pandas as pd\n",
    "from nltk.corpus import stopwords\n",
    "from pymystem3 import Mystem\n",
    "from string import punctuation\n",
    "from tqdm.auto import tqdm"
   ]
  },
  {
   "cell_type": "code",
   "execution_count": null,
   "metadata": {},
   "outputs": [],
   "source": [
    "gaz = pd.read_excel('gazeta_articles.xlsx') # Газета.ру\n",
    "iz = pd.read_excel('iz_articles.xlsx') # Известия\n",
    "mk = pd.read_excel('mk_articles.xlsx') # Московский комсомолец\n",
    "ng = pd.read_excel('ng_articles.xlsx') # Независимая газета\n",
    "rg = pd.read_excel('rg_articles.xlsx') # Российская газета\n",
    "rbk = pd.read_excel('rbk_articles.xlsx') # РБК"
   ]
  },
  {
   "cell_type": "code",
   "execution_count": null,
   "metadata": {},
   "outputs": [],
   "source": [
    "# Выставляем метки изданий (даны по условию задачи)\n",
    "loyal = gaz.append(rg).reset_index(drop=True)\n",
    "independent = rbk.append(ng).reset_index(drop=True)\n",
    "mass = iz.append(mk).reset_index(drop=True)\n",
    "\n",
    "loyal['type'] = 'loyal'\n",
    "independent['type'] = 'independent'\n",
    "mass['type'] = 'mass'"
   ]
  },
  {
   "cell_type": "code",
   "execution_count": null,
   "metadata": {},
   "outputs": [],
   "source": [
    "data = loyal.append(independent).append(mass).reset_index(drop=True)"
   ]
  },
  {
   "cell_type": "code",
   "execution_count": null,
   "metadata": {},
   "outputs": [],
   "source": [
    "stop = stopwords.words('russian')"
   ]
  },
  {
   "cell_type": "code",
   "execution_count": null,
   "metadata": {},
   "outputs": [],
   "source": [
    "mystem = Mystem()\n",
    "\n",
    "def preprocess_text(text):\n",
    "    url = re.compile(r'https?://\\S+|www\\.\\S+')\n",
    "    text = url.sub(r'', text)\n",
    "    \n",
    "    html = re.compile(r'<.*?>')\n",
    "    text = html.sub(r'',text)\n",
    "    \n",
    "    html = re.compile(r'{.*?}')\n",
    "    text = html.sub(r'',text)\n",
    "    \n",
    "    eng = re.compile(r'[a-zA-Z]')\n",
    "    text = eng.sub(r'', text)\n",
    "    \n",
    "    tokens = mystem.lemmatize(text.lower())\n",
    "    tokens = [token for token in tokens if (token not in stop) and (token != \" \") and (token.strip() not in punctuation)]\n",
    "    text = \" \".join(tokens)\n",
    "    text = text.replace('_', '').replace('«', '').replace('»', '').replace('.', '').replace('(', '').replace(')', '')\n",
    "    text = text.replace('80', '').replace('1260', '').replace('}', '').replace(';', '').replace(',', '').replace(':', '')\n",
    "    text = text.replace(\"'\", '').replace('-', '').replace('→', '').replace('#', '').replace('3  3', '').replace('  ', '')\n",
    "    text = text.replace('\"', '').strip()\n",
    "    \n",
    "    return text"
   ]
  },
  {
   "cell_type": "code",
   "execution_count": null,
   "metadata": {},
   "outputs": [],
   "source": [
    "tqdm.pandas()"
   ]
  },
  {
   "cell_type": "code",
   "execution_count": null,
   "metadata": {
    "scrolled": true
   },
   "outputs": [],
   "source": [
    "data['content'] = data['content'].progress_apply(lambda x: preprocess_text(x))"
   ]
  },
  {
   "cell_type": "code",
   "execution_count": null,
   "metadata": {},
   "outputs": [],
   "source": [
    "data.to_csv('data.csv', index=False)"
   ]
  }
 ],
 "metadata": {
  "kernelspec": {
   "display_name": "Python 3",
   "language": "python",
   "name": "python3"
  },
  "language_info": {
   "codemirror_mode": {
    "name": "ipython",
    "version": 3
   },
   "file_extension": ".py",
   "mimetype": "text/x-python",
   "name": "python",
   "nbconvert_exporter": "python",
   "pygments_lexer": "ipython3",
   "version": "3.7.4"
  }
 },
 "nbformat": 4,
 "nbformat_minor": 2
}
